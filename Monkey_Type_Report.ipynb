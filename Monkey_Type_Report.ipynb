{
 "cells": [
  {
   "cell_type": "markdown",
   "metadata": {},
   "source": [
    "# MonkeyType Data Report"
   ]
  },
  {
   "cell_type": "markdown",
   "metadata": {},
   "source": [
    "## Import Statements"
   ]
  },
  {
   "cell_type": "code",
   "execution_count": 2,
   "metadata": {},
   "outputs": [],
   "source": [
    "import pandas as pd\n",
    "import numpy as np\n",
    "import scipy.stats as stats\n",
    "import matplotlib.pyplot as plt"
   ]
  },
  {
   "cell_type": "markdown",
   "metadata": {},
   "source": [
    "In this report, I will be analyzing typing data. This is really nice because I have been doing typing tests since the beginning of the year. Since I am at my computer typing lots of code and math proofs, it's important to me that I increase my typing speed. This will mean I complete assignments faster and I get more time back in my pocket that I can use in other places. \n",
    "\n",
    "Unfortunately, the website that I take my typing tests on (MonkeyType) does not let you download your data very easily. In order for me to get all of my typing data. As such, if you are interested in downloading your own typing data from MonkeyType, this is how I learned to do it:\n",
    "\n",
    "> **How to Download your Typing Data from MonkeyType**\n",
    "> 1. Go to your accounts page where you can view all your stats on the website\n",
    "> 2. Open your console, most web browsers can do this by pressing F12 and then clicking on \"Console\"\n",
    "> 3. Type the command `copy(snapshot().results)`. This will copy all of your data since the creation of your account to the clipboard.\n",
    "> 4. Create a new text document and paste your data. It should be a LOT of lines. Save this text document with the `.json` extension. \n",
    "\n",
    "\n",
    "This means that I have one singular but HUGE json file where all of my data is stored.\n",
    "\n",
    "\n",
    "## Data Attributes\n",
    "\n",
    "My dataset contains the following attributes:\n",
    "\n",
    "* ID: Every test has a random string ID that can be used for identification\n",
    "* WPM: Stands for \"words per minute\" - the words per minute that I got on that test\n",
    "* Raw WPM: Typers make mistakes when they type, and mistakes are penalized in the calculation of WPM. The Raw WPM would be the WPM scored if mistakes were not taken into account\n",
    "* acc: short for \"accuracy\", this score between 0 and 100 is the percent accurate I was on that test\n",
    "* mode: whether this was a timed test, a quote test, or somet other form of test\n",
    "* mode2: the value heree depends on the value in mode\n",
    "    * IF TIMED TEST: mode2 displays the length of the test\n",
    "    * IF QUOTE TEST: mode2 displays the number of characters in the quote\n",
    "* quote length: a bit poorly named in my opinion. a 1 means that the test was a quote test, and a -1 means the test was not a quote test. Not sure what additional information this gives us...\n",
    "* timestamp: the timestamp for when the test occurred\n",
    "* restart count: how many times the test was restarted\n",
    "* incomplete test seconds: the total number of seconds all incompleted tests took\n",
    "* test duration: how long the test took. This is valuable if you got a quote because different quotes take various amounts of time\n",
    "* afk duration: how many seconds there wsa no user input\n",
    "* tags: an array of tags put on the test\n",
    "* consistency: how consistent my typing speed remained over the course of the entire test\n",
    "* key consistency: \n",
    "* chart data: this is a JSON object containing information about my WPM, errors, and raw WPM at every second of my test\n",
    "* uid:\n",
    "* key spacing stats:\n",
    "* key duration stats:\n",
    "* ir: this column has been depracated since I started this project\n",
    "* bailed out: Whether a test was cancelled near the end of a test\n",
    "* blind mode: Whether blind mode was on/off\n",
    "* lazy mode: Whether lazy mode was on/off\n",
    "* difficulty: The difficulty level of the test\n",
    "* funbox: What type of funbox was used in the test\n",
    "* language: what language I typed in for that test\n",
    "* numbers: True if numbers appeared on the test and false otherwise\n",
    "* punctuation: True if punctuation appeared on the test and false otherwise\n",
    "* is PB: 1 if the test was a PB at the time, otherwise left blank if there was no PB\n"
   ]
  },
  {
   "cell_type": "markdown",
   "metadata": {},
   "source": [
    "## Data Cleaning/Aggregation\n",
    "\n",
    "Since `pandas` conveniently has a `read_json` function, we can get the data into a DataFrame:"
   ]
  },
  {
   "cell_type": "code",
   "execution_count": 3,
   "metadata": {},
   "outputs": [
    {
     "name": "stdout",
     "output_type": "stream",
     "text": [
      "                          _id     wpm  rawWpm        charStats    acc  mode  \\\n",
      "0    619be623425285ba199b5465  103.80  109.20   [519, 7, 0, 3]  97.44  time   \n",
      "1    619bdecb425285ba19784be8  102.98  110.38  [515, 14, 2, 2]  94.31  time   \n",
      "2    619bde01425285ba197279a1  109.38  116.18  [547, 13, 2, 2]  95.72  time   \n",
      "3    6171d251653e0be59fcc7d40  110.36  117.36   [552, 9, 3, 1]  96.94  time   \n",
      "4    6168fde0418b06c0ab798403  108.95  114.34   [545, 9, 4, 3]  96.85  time   \n",
      "..                        ...     ...     ...              ...    ...   ...   \n",
      "173  61182e7af039809de162d25a   82.80   86.40         [414, 5]  94.65  time   \n",
      "174  61182e7af039809de162d25b   79.19   80.19         [396, 0]  97.82  time   \n",
      "175  61182e7af039809de162d25c   85.00   87.00         [425, 4]  96.20  time   \n",
      "176  61182e7af039809de162d25d   96.40   96.40         [482, 0]  99.59  time   \n",
      "177  61182e7af039809de162d25e   82.60   85.00         [413, 3]  97.01  time   \n",
      "\n",
      "     mode2  quoteLength               timestamp  restartCount  ...   ir  \\\n",
      "0       60           -1 2021-11-22 18:49:08.000             2  ...  1.0   \n",
      "1       60           -1 2021-11-22 18:17:48.000             0  ...  1.0   \n",
      "2       60           -1 2021-11-22 18:14:26.000             0  ...  1.0   \n",
      "3       60           -1 2021-10-21 20:49:22.000             1  ...  1.0   \n",
      "4       60           -1 2021-10-15 04:04:48.000             2  ...  1.0   \n",
      "..     ...          ...                     ...           ...  ...  ...   \n",
      "173     60           -1 2021-01-12 07:14:52.479             0  ...  NaN   \n",
      "174     60           -1 2021-01-12 07:11:25.369             0  ...  NaN   \n",
      "175     60           -1 2021-01-05 04:04:28.898             0  ...  NaN   \n",
      "176     60           -1 2021-01-05 04:01:56.171             0  ...  NaN   \n",
      "177     60           -1 2021-01-05 03:58:13.893             0  ...  NaN   \n",
      "\n",
      "     bailedOut  blindMode lazyMode  difficulty  funbox language numbers  \\\n",
      "0        False      False    False      normal    none  english   False   \n",
      "1        False      False    False      normal    none  english   False   \n",
      "2        False      False    False      normal    none  english   False   \n",
      "3        False      False    False      normal    none  english   False   \n",
      "4        False      False    False      normal    none  english   False   \n",
      "..         ...        ...      ...         ...     ...      ...     ...   \n",
      "173      False      False    False      normal    none  english   False   \n",
      "174      False      False    False      normal    none  english   False   \n",
      "175      False      False    False      normal    none  english   False   \n",
      "176      False      False    False      normal    none  english   False   \n",
      "177      False      False    False      normal    none  english   False   \n",
      "\n",
      "    punctuation isPb  \n",
      "0         False  NaN  \n",
      "1         False  NaN  \n",
      "2         False  NaN  \n",
      "3         False  NaN  \n",
      "4         False  NaN  \n",
      "..          ...  ...  \n",
      "173       False  NaN  \n",
      "174       False  NaN  \n",
      "175       False  NaN  \n",
      "176       False  1.0  \n",
      "177       False  1.0  \n",
      "\n",
      "[178 rows x 30 columns]\n"
     ]
    }
   ],
   "source": [
    "mt_df = pd.read_json('monkey_type_data.json')\n",
    "print(mt_df)"
   ]
  },
  {
   "cell_type": "markdown",
   "metadata": {},
   "source": [
    "Initially looking at this data, there are many columns that are not useful to my data analysis. Namely the following:\n",
    "\n",
    "* afk duration: Whenever I take typing tests, I never stop typing (otherwise what is the point in the typing test?). As such, a column of zeros don't really mean anything\n",
    "* tags: I don't ever tag any of my tests, so this is just a column of empty lists.  \n",
    "* uid: My user-ID never changes so it doesn't make sense to include this column\n",
    "* ir: this column didn't make any sense to me and when I reached out to the developers, they couldn't tell me what that was either and removed the column\n",
    "* bailed out: I've never gotten so far where I would 'bail out' so this column has useless information\n",
    "* language: I only ever type in English\n",
    "\n",
    "As such, the first thing I am going to do is delete these columns from my DataFrame since these columns give no relevant information:"
   ]
  },
  {
   "cell_type": "code",
   "execution_count": 4,
   "metadata": {},
   "outputs": [
    {
     "name": "stdout",
     "output_type": "stream",
     "text": [
      "                          _id     wpm  rawWpm        charStats    acc  mode  \\\n",
      "0    619be623425285ba199b5465  103.80  109.20   [519, 7, 0, 3]  97.44  time   \n",
      "1    619bdecb425285ba19784be8  102.98  110.38  [515, 14, 2, 2]  94.31  time   \n",
      "2    619bde01425285ba197279a1  109.38  116.18  [547, 13, 2, 2]  95.72  time   \n",
      "3    6171d251653e0be59fcc7d40  110.36  117.36   [552, 9, 3, 1]  96.94  time   \n",
      "4    6168fde0418b06c0ab798403  108.95  114.34   [545, 9, 4, 3]  96.85  time   \n",
      "..                        ...     ...     ...              ...    ...   ...   \n",
      "173  61182e7af039809de162d25a   82.80   86.40         [414, 5]  94.65  time   \n",
      "174  61182e7af039809de162d25b   79.19   80.19         [396, 0]  97.82  time   \n",
      "175  61182e7af039809de162d25c   85.00   87.00         [425, 4]  96.20  time   \n",
      "176  61182e7af039809de162d25d   96.40   96.40         [482, 0]  99.59  time   \n",
      "177  61182e7af039809de162d25e   82.60   85.00         [413, 3]  97.01  time   \n",
      "\n",
      "     mode2  quoteLength               timestamp  restartCount  ...  \\\n",
      "0       60           -1 2021-11-22 18:49:08.000             2  ...   \n",
      "1       60           -1 2021-11-22 18:17:48.000             0  ...   \n",
      "2       60           -1 2021-11-22 18:14:26.000             0  ...   \n",
      "3       60           -1 2021-10-21 20:49:22.000             1  ...   \n",
      "4       60           -1 2021-10-15 04:04:48.000             2  ...   \n",
      "..     ...          ...                     ...           ...  ...   \n",
      "173     60           -1 2021-01-12 07:14:52.479             0  ...   \n",
      "174     60           -1 2021-01-12 07:11:25.369             0  ...   \n",
      "175     60           -1 2021-01-05 04:04:28.898             0  ...   \n",
      "176     60           -1 2021-01-05 04:01:56.171             0  ...   \n",
      "177     60           -1 2021-01-05 03:58:13.893             0  ...   \n",
      "\n",
      "                                             chartData  \\\n",
      "0    {'wpm': [120, 96, 84, 93, 103, 104, 103, 105, ...   \n",
      "1    {'wpm': [83, 96, 96, 111, 115, 118, 120, 120, ...   \n",
      "2    {'wpm': [108, 108, 128, 117, 108, 110, 111, 11...   \n",
      "3    {'wpm': [130, 124, 135, 128, 129, 132, 137, 13...   \n",
      "4    {'wpm': [118, 113, 119, 105, 112, 110, 103, 10...   \n",
      "..                                                 ...   \n",
      "173  {'raw': [108, 84, 84, 84, 112, 100, 64, 52, 48...   \n",
      "174  {'wpm': [60, 84, 100, 105, 91, 102, 106, 105, ...   \n",
      "175  {'raw': [108, 120, 112, 112, 104, 108, 100, 84...   \n",
      "176  {'err': [0, 0, 0, 0, 0, 0, 0, 0, 0, 0, 0, 0, 0...   \n",
      "177  {'err': [0, 0, 0, 0, 0, 0, 0, 0, 0, 0, 0, 1, 0...   \n",
      "\n",
      "                       keySpacingStats                 keyDurationStats  \\\n",
      "0      {'average': 109.5, 'sd': 62.29}  {'average': 50.73, 'sd': 18.43}   \n",
      "1     {'average': 104.91, 'sd': 59.62}  {'average': 51.32, 'sd': 19.65}   \n",
      "2     {'average': 102.25, 'sd': 55.15}  {'average': 52.63, 'sd': 19.39}   \n",
      "3     {'average': 101.89, 'sd': 54.78}  {'average': 51.35, 'sd': 19.92}   \n",
      "4     {'average': 104.95, 'sd': 56.99}  {'average': 52.19, 'sd': 18.63}   \n",
      "..                                 ...                              ...   \n",
      "173   {'average': 129.13, 'sd': 86.04}  {'average': 61.76, 'sd': 20.56}   \n",
      "174   {'average': 142.02, 'sd': 111.5}  {'average': 62.63, 'sd': 21.04}   \n",
      "175   {'average': 130.74, 'sd': 92.13}  {'average': 59.67, 'sd': 26.74}   \n",
      "176    {'sd': 75.83, 'average': 123.8}  {'sd': 26.23, 'average': 58.17}   \n",
      "177  {'average': 134.88, 'sd': 105.63}  {'average': 61.46, 'sd': 27.33}   \n",
      "\n",
      "     blindMode lazyMode difficulty funbox  numbers  punctuation isPb  \n",
      "0        False    False     normal   none    False        False  NaN  \n",
      "1        False    False     normal   none    False        False  NaN  \n",
      "2        False    False     normal   none    False        False  NaN  \n",
      "3        False    False     normal   none    False        False  NaN  \n",
      "4        False    False     normal   none    False        False  NaN  \n",
      "..         ...      ...        ...    ...      ...          ...  ...  \n",
      "173      False    False     normal   none    False        False  NaN  \n",
      "174      False    False     normal   none    False        False  NaN  \n",
      "175      False    False     normal   none    False        False  NaN  \n",
      "176      False    False     normal   none    False        False  1.0  \n",
      "177      False    False     normal   none    False        False  1.0  \n",
      "\n",
      "[178 rows x 24 columns]\n"
     ]
    }
   ],
   "source": [
    "mt_df.drop(columns=['afkDuration', 'tags', 'uid', 'ir', 'bailedOut', 'language'], inplace=True)\n",
    "print(mt_df)"
   ]
  },
  {
   "cell_type": "markdown",
   "metadata": {},
   "source": [
    "## Still on the Docket\n",
    "\n",
    "This is a list of things I would still like to do for this part of the project:\n",
    "\n",
    "* mode2: this is a poorly named column that just needs to be gone. I can move this information into quote length and test duration\n",
    "* chart data: I wonder if I even can get anything interesting from this data?\n",
    "* char stats: pull each component into another DataFrame and combine back into the main DataFrame\n",
    "    * do same thing for key spacing stats and key duration stats"
   ]
  },
  {
   "cell_type": "markdown",
   "metadata": {},
   "source": [
    "## Visualizations of Data\n",
    "\n",
    "This is what my WPM looks like over time:"
   ]
  },
  {
   "cell_type": "code",
   "execution_count": 10,
   "metadata": {},
   "outputs": [
    {
     "data": {
      "image/png": "[encoded data removed]",
      "text/plain": [
       "<Figure size 432x288 with 1 Axes>"
      ]
     },
     "metadata": {
      "needs_background": "light"
     },
     "output_type": "display_data"
    }
   ],
   "source": [
    "# code for getting my WPM over time\n",
    "\n",
    "wpm_data = []\n",
    "y_data = []\n",
    "\n",
    "for i in range(len(mt_df.index)):\n",
    "    y_data.append(i+1)\n",
    "\n",
    "for index in mt_df.index:\n",
    "    wpm_data.append(mt_df['wpm'][index])\n",
    "\n",
    "plt.scatter(y_data, wpm_data)\n",
    "plt.title('WPM (Present to January 2021)')\n",
    "plt.show()"
   ]
  },
  {
   "cell_type": "markdown",
   "metadata": {},
   "source": [
    "## The All-Important Question - Has my WPM Improved Over Time?\n",
    "\n",
    "The whole reason I am analyzing this data is for me to find out if I have become a better typer. To best analyze this, I will test this hypothesis:\n",
    "\n",
    "> Is my average typing speed from April to now greater than my average typing speed from Jan-March?\n",
    "\n",
    "\n",
    "To do this, I will need appropriate null and alternative hypotheses. I will use a subscript $1$ to correspond to the typing tests from Jan-March and a subscript $2$ to correspond to the typing tests from April to present. \n",
    "\n",
    "* $H_0: \\mu_2 \\le \\mu_1$\n",
    "* $H_a: \\mu_2 > \\mu_1$\n",
    "\n",
    "\n",
    "I am going to use a level of significance $\\alpha = 0.01$ and a test statistic for an independent two-sample. This test will be one-tailed. In the following code, I will get the appropriate data and use `scipy` to get the appropriate test statistics:"
   ]
  },
  {
   "cell_type": "code",
   "execution_count": 13,
   "metadata": {},
   "outputs": [
    {
     "name": "stdout",
     "output_type": "stream",
     "text": [
      "test statistic: -6.122803811454081\n",
      "p-value: 5.829530835898586e-09\n"
     ]
    }
   ],
   "source": [
    "# iterate through the entire dataframe to build up the WPM lists\n",
    "data_1 = []\n",
    "data_2 = []\n",
    "\n",
    "\n",
    "for index in mt_df.index:\n",
    "    if (mt_df['timestamp'][index].month <= 3):\n",
    "        data_1.append(mt_df['wpm'][index])\n",
    "    else:\n",
    "        data_2.append(mt_df['wpm'][index])\n",
    "\n",
    "t, p = stats.ttest_ind(data_1, data_2)\n",
    "print('test statistic:', t)\n",
    "print('p-value:', p)"
   ]
  },
  {
   "cell_type": "markdown",
   "metadata": {},
   "source": [
    "Since the p-value that we received is larger/smaller than our significance level $\\alpha = 0.05$, we will reject/not reject $H_0$. This means that my average words per minute did/did not improve after three months of typing tests."
   ]
  }
 ],
 "metadata": {
  "interpreter": {
   "hash": "30cfaf840bf8e74bb7f201816b910045dae9f6e57b4a6643b14e7c76979b6394"
  },
  "kernelspec": {
   "display_name": "Python 3.8.5 64-bit ('base': conda)",
   "language": "python",
   "name": "python3"
  },
  "language_info": {
   "codemirror_mode": {
    "name": "ipython",
    "version": 3
   },
   "file_extension": ".py",
   "mimetype": "text/x-python",
   "name": "python",
   "nbconvert_exporter": "python",
   "pygments_lexer": "ipython3",
   "version": "3.8.5"
  },
  "orig_nbformat": 4
 },
 "nbformat": 4,
 "nbformat_minor": 2
}
